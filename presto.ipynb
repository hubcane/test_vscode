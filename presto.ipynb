{
 "cells": [
  {
   "cell_type": "code",
   "execution_count": 3,
   "id": "b0684c6a",
   "metadata": {},
   "outputs": [
    {
     "data": {
      "text/plain": [
       "2"
      ]
     },
     "execution_count": 3,
     "metadata": {},
     "output_type": "execute_result"
    }
   ],
   "source": [
    "l = [[2,3,4], [3,4,5]]\n",
    "\n",
    "len(l)"
   ]
  },
  {
   "cell_type": "code",
   "execution_count": 37,
   "id": "868756fc",
   "metadata": {},
   "outputs": [],
   "source": [
    "from copy import deepcopy as dc"
   ]
  },
  {
   "cell_type": "code",
   "execution_count": 4,
   "id": "422e5dca",
   "metadata": {},
   "outputs": [],
   "source": [
    "m, n = 2,2"
   ]
  },
  {
   "cell_type": "code",
   "execution_count": 7,
   "id": "734bb7d3",
   "metadata": {},
   "outputs": [],
   "source": [
    "before = [[0]* 2]*2"
   ]
  },
  {
   "cell_type": "code",
   "execution_count": 8,
   "id": "0dba59ae",
   "metadata": {},
   "outputs": [
    {
     "data": {
      "text/plain": [
       "[[0, 0], [0, 0]]"
      ]
     },
     "execution_count": 8,
     "metadata": {},
     "output_type": "execute_result"
    }
   ],
   "source": [
    "before"
   ]
  },
  {
   "cell_type": "code",
   "execution_count": 23,
   "id": "beac43e7",
   "metadata": {},
   "outputs": [],
   "source": [
    "M = [[1,2], [3,4]]"
   ]
  },
  {
   "cell_type": "code",
   "execution_count": 24,
   "id": "0f10a8cf",
   "metadata": {},
   "outputs": [],
   "source": [
    "m,n = len(M), len(M[0])"
   ]
  },
  {
   "cell_type": "code",
   "execution_count": 25,
   "id": "e6e7a077",
   "metadata": {},
   "outputs": [],
   "source": [
    "N = [[0] * n] * m"
   ]
  },
  {
   "cell_type": "code",
   "execution_count": 19,
   "id": "cebb8b7e",
   "metadata": {},
   "outputs": [],
   "source": [
    "s = 0\n",
    "\n",
    "for i in range(m):\n",
    "    for j in range(n):\n",
    "        s += M[i][j]\n",
    "        N[i][j] = s"
   ]
  },
  {
   "cell_type": "code",
   "execution_count": 21,
   "id": "20e62089",
   "metadata": {},
   "outputs": [
    {
     "data": {
      "text/plain": [
       "[[9, 13, 18], [9, 13, 18]]"
      ]
     },
     "execution_count": 21,
     "metadata": {},
     "output_type": "execute_result"
    }
   ],
   "source": [
    "N"
   ]
  },
  {
   "cell_type": "code",
   "execution_count": 22,
   "id": "339abe5f",
   "metadata": {},
   "outputs": [],
   "source": [
    "for i in range(0):\n",
    "    print(i)"
   ]
  },
  {
   "cell_type": "code",
   "execution_count": 67,
   "id": "55817b61",
   "metadata": {},
   "outputs": [],
   "source": [
    "def f(after):\n",
    "    m = len(after)\n",
    "    n = len(after[0])\n",
    "    \n",
    "    before = [[0 for _ in range(m)] for _ in range(n)]\n",
    "    \n",
    "    for x in range(m):\n",
    "        for y in range(n):\n",
    "            s = 0\n",
    "            for i in range(x+1):\n",
    "                for j in range(y+1):\n",
    "                    s += before[i][j]\n",
    "\n",
    "            print(x, y, '\\t', 'val:', after[x][y],'\\t', 's: ',s)\n",
    "            before[x][y] = dc(after[x][y] - s)\n",
    "            print(before)\n",
    "            \n",
    "    return before"
   ]
  },
  {
   "cell_type": "code",
   "execution_count": 68,
   "id": "a9fd1e12",
   "metadata": {},
   "outputs": [
    {
     "name": "stdout",
     "output_type": "stream",
     "text": [
      "0 0 \t val: 1 \t s:  0\n",
      "[[1, 0], [0, 0]]\n",
      "0 1 \t val: 2 \t s:  1\n",
      "[[1, 1], [0, 0]]\n",
      "1 0 \t val: 3 \t s:  1\n",
      "[[1, 1], [2, 0]]\n",
      "1 1 \t val: 4 \t s:  4\n",
      "[[1, 1], [2, 0]]\n"
     ]
    },
    {
     "data": {
      "text/plain": [
       "[[1, 1], [2, 0]]"
      ]
     },
     "execution_count": 68,
     "metadata": {},
     "output_type": "execute_result"
    }
   ],
   "source": [
    "f(M)"
   ]
  },
  {
   "cell_type": "code",
   "execution_count": 397,
   "id": "96f59db6",
   "metadata": {},
   "outputs": [],
   "source": [
    "def f(a):\n",
    "    root = a[0]\n",
    "\n",
    "    class node():\n",
    "        def __init__(self):\n",
    "            self.val = None\n",
    "            self.right = None\n",
    "            self.left = None\n",
    "            self.parent = None\n",
    "            return None    \n",
    "\n",
    "    nodeList = []\n",
    "    for i, val in enumerate(a):\n",
    "        n = node()\n",
    "        n.val = val\n",
    "\n",
    "        # Parent\n",
    "        if i == 0 : pass\n",
    "        else:\n",
    "            if n.val < nodeList[i-1].val:\n",
    "                nodeList[i-1].left = n\n",
    "                n.parent = nodeList[i-1]\n",
    "            else:\n",
    "                before_node = nodeList[i-1]\n",
    "                while(True):\n",
    "                    if n.val > before_node.val:\n",
    "                        n.parent = before_node\n",
    "                        before_node.right = n\n",
    "                        break\n",
    "                    before_node = before_node.parent\n",
    "        nodeList.append(n)\n",
    "        \n",
    "    def readpretraversal(node, nodeList):\n",
    "        vallist = []\n",
    "        bol = True\n",
    "        \n",
    "        while(True):\n",
    "            if len(vallist) == len(nodeList): break\n",
    "            vallist.append(node.val)\n",
    "            if node.left == None:\n",
    "                while(True):\n",
    "                    if node.right != None:\n",
    "                        node = node.right\n",
    "                        bol = False\n",
    "                        break\n",
    "                    node = node.parent\n",
    "            if bol == False:\n",
    "                bol = True\n",
    "                continue\n",
    "                    \n",
    "            node = node.left\n",
    "                    \n",
    "            if node.parent == None:\n",
    "                break\n",
    "        return vallist\n",
    "    \n",
    "    vallist = readpretraversal(nodeList[0], a)\n",
    "    nodelist = [n.val for n in nodeList]\n",
    "    \n",
    "    if nodelist == vallist: return 'YES'\n",
    "    else: return 'NO' \n",
    "    "
   ]
  },
  {
   "cell_type": "code",
   "execution_count": 403,
   "id": "312dd0db",
   "metadata": {},
   "outputs": [],
   "source": [
    "nodes = [1, 3, 4, 2]\n",
    "nodes =[3, 2, 1, 5, 4, 6]\n",
    "nodes = [3, 4, 5, 1, 2]"
   ]
  },
  {
   "cell_type": "code",
   "execution_count": 404,
   "id": "177f44d9",
   "metadata": {},
   "outputs": [
    {
     "name": "stdout",
     "output_type": "stream",
     "text": [
      "[<__main__.f.<locals>.node object at 0x7ff5cfa9ac70>, <__main__.f.<locals>.node object at 0x7ff5cfa9a6d0>, <__main__.f.<locals>.node object at 0x7ff5cfa9af10>, <__main__.f.<locals>.node object at 0x7ff5cff1d4c0>, <__main__.f.<locals>.node object at 0x7ff5cff1dfd0>]\n",
      "YES\n"
     ]
    }
   ],
   "source": [
    "print(f(nodes))"
   ]
  },
  {
   "cell_type": "code",
   "execution_count": null,
   "id": "b9ed9491",
   "metadata": {},
   "outputs": [],
   "source": []
  },
  {
   "cell_type": "code",
   "execution_count": null,
   "id": "c0ee4ef0",
   "metadata": {},
   "outputs": [],
   "source": []
  },
  {
   "cell_type": "code",
   "execution_count": 193,
   "id": "69204cf3",
   "metadata": {},
   "outputs": [],
   "source": [
    "history = ['24412', '56316', '66666', '45625']\n",
    "history = ['137', '364', '115', '724']"
   ]
  },
  {
   "cell_type": "code",
   "execution_count": 194,
   "id": "0ecc4ec7",
   "metadata": {},
   "outputs": [],
   "source": [
    "def slotWheels(history):\n",
    "    # Write your code here\n",
    "    \n",
    "    length = len(history[0])\n",
    "    history = [[int(s) for s in h] for h in history]\n",
    "\n",
    "    def slotspin(listval):\n",
    "        maxval = max(listval)\n",
    "        removelist = listval\n",
    "        removelist.remove(maxval)\n",
    "        return [maxval, removelist]\n",
    "    \n",
    "    returnval = 0\n",
    "    for i in range(length):        \n",
    "        func_return = [slotspin(h) for h in history]\n",
    "        maxlist = [f[0] for f in func_return]\n",
    "        maxval = max(maxlist)\n",
    "        historylist = [f[1] for f in func_return]\n",
    "        \n",
    "        returnval += maxval\n",
    "        history = historylist\n",
    "        \n",
    "        print(maxval)\n",
    "        print(historylist)\n",
    "        print(returnval)\n",
    "        \n",
    "    \n",
    "    return returnval"
   ]
  },
  {
   "cell_type": "code",
   "execution_count": 195,
   "id": "69a55002",
   "metadata": {},
   "outputs": [
    {
     "name": "stdout",
     "output_type": "stream",
     "text": [
      "7\n",
      "[[1, 3], [3, 4], [1, 1], [2, 4]]\n",
      "7\n",
      "4\n",
      "[[1], [3], [1], [2]]\n",
      "11\n",
      "3\n",
      "[[], [], [], []]\n",
      "14\n"
     ]
    },
    {
     "data": {
      "text/plain": [
       "14"
      ]
     },
     "execution_count": 195,
     "metadata": {},
     "output_type": "execute_result"
    }
   ],
   "source": [
    "slotWheels(history)"
   ]
  },
  {
   "cell_type": "code",
   "execution_count": null,
   "id": "5d1619c7",
   "metadata": {},
   "outputs": [],
   "source": []
  },
  {
   "cell_type": "code",
   "execution_count": 154,
   "id": "3ea4f1ac",
   "metadata": {},
   "outputs": [],
   "source": [
    "a = [1,2,3]\n",
    "a.remove(3)"
   ]
  },
  {
   "cell_type": "code",
   "execution_count": 155,
   "id": "13a8a5e8",
   "metadata": {},
   "outputs": [
    {
     "data": {
      "text/plain": [
       "[1, 2]"
      ]
     },
     "execution_count": 155,
     "metadata": {},
     "output_type": "execute_result"
    }
   ],
   "source": [
    "a"
   ]
  },
  {
   "cell_type": "code",
   "execution_count": 197,
   "id": "e37202ff",
   "metadata": {},
   "outputs": [],
   "source": [
    "import numpy as np"
   ]
  },
  {
   "cell_type": "code",
   "execution_count": 198,
   "id": "a5b157c3",
   "metadata": {},
   "outputs": [
    {
     "data": {
      "text/plain": [
       "316.22776601683796"
      ]
     },
     "execution_count": 198,
     "metadata": {},
     "output_type": "execute_result"
    }
   ],
   "source": [
    "np.sqrt(100000)"
   ]
  },
  {
   "cell_type": "code",
   "execution_count": 199,
   "id": "1cd1c729",
   "metadata": {},
   "outputs": [],
   "source": [
    "import math"
   ]
  },
  {
   "cell_type": "code",
   "execution_count": 200,
   "id": "22a241dd",
   "metadata": {},
   "outputs": [
    {
     "data": {
      "text/plain": [
       "10.0"
      ]
     },
     "execution_count": 200,
     "metadata": {},
     "output_type": "execute_result"
    }
   ],
   "source": [
    "math.sqrt(100)"
   ]
  },
  {
   "cell_type": "code",
   "execution_count": null,
   "id": "2802d735",
   "metadata": {},
   "outputs": [],
   "source": []
  },
  {
   "cell_type": "code",
   "execution_count": null,
   "id": "c192e60f",
   "metadata": {},
   "outputs": [],
   "source": []
  },
  {
   "cell_type": "code",
   "execution_count": null,
   "id": "39f3a137",
   "metadata": {},
   "outputs": [],
   "source": []
  },
  {
   "cell_type": "code",
   "execution_count": null,
   "id": "07d82f80",
   "metadata": {},
   "outputs": [],
   "source": []
  },
  {
   "cell_type": "code",
   "execution_count": null,
   "id": "1ad1ef7b",
   "metadata": {},
   "outputs": [],
   "source": []
  },
  {
   "cell_type": "code",
   "execution_count": null,
   "id": "95f4dacc",
   "metadata": {},
   "outputs": [],
   "source": []
  },
  {
   "cell_type": "code",
   "execution_count": null,
   "id": "246aa552",
   "metadata": {},
   "outputs": [],
   "source": []
  },
  {
   "cell_type": "code",
   "execution_count": 278,
   "id": "916b21c8",
   "metadata": {},
   "outputs": [],
   "source": [
    "def c(l, r):\n",
    "    # Write your code here\n",
    "    countlist = []\n",
    "    \n",
    "    # about limit\n",
    "    upp_bound = math.floor(math.sqrt(r))\n",
    "\n",
    "    def powerrange(integer, r):\n",
    "        if integer == 0: return 3\n",
    "        if integer == 1: return 3\n",
    "        n = 1\n",
    "        while True:\n",
    "            if integer ** n > r:\n",
    "                return n\n",
    "            n += 1\n",
    "    \n",
    "    for b in range(upp_bound +1):\n",
    "        for a in range(b+1):\n",
    "            power_b = powerrange(b, r)\n",
    "            power_a = powerrange(a, r)\n",
    "            \n",
    "            for q in range(2, power_b):\n",
    "                if b ** q > r: break\n",
    "\n",
    "                for p in range(2, power_a):\n",
    "                    \n",
    "                    calval = b**q + a**p\n",
    "                    if calval < l : continue\n",
    "                    if calval > r : break\n",
    "                    \n",
    "                    if calval <= r : \n",
    "                        print('a:', a, 'b')\n",
    "                        countlist.append(calval)\n",
    "    count = len(list(set(countlist)))\n",
    "    return count"
   ]
  },
  {
   "cell_type": "code",
   "execution_count": 279,
   "id": "f578a89e",
   "metadata": {},
   "outputs": [
    {
     "data": {
      "text/plain": [
       "5"
      ]
     },
     "execution_count": 279,
     "metadata": {},
     "output_type": "execute_result"
    }
   ],
   "source": [
    "c(25, 30)"
   ]
  },
  {
   "cell_type": "code",
   "execution_count": 259,
   "id": "00f82a54",
   "metadata": {},
   "outputs": [
    {
     "name": "stdout",
     "output_type": "stream",
     "text": [
      "10\n",
      "1 100 1 0 2 2 1\n",
      "1 100 1 1 2 2 2\n",
      "1 100 2 0 2 2 4\n",
      "1 100 2 0 3 2 8\n",
      "1 100 2 0 4 2 16\n",
      "1 100 2 0 5 2 32\n",
      "1 100 2 0 6 2 64\n",
      "1 100 2 1 2 2 5\n",
      "1 100 2 1 3 2 9\n",
      "1 100 2 1 4 2 17\n",
      "1 100 2 1 5 2 33\n",
      "1 100 2 1 6 2 65\n",
      "1 100 2 2 2 2 8\n",
      "1 100 2 2 2 3 12\n",
      "1 100 2 2 2 4 20\n",
      "1 100 2 2 2 5 36\n",
      "1 100 2 2 2 6 68\n",
      "1 100 2 2 3 2 12\n",
      "1 100 2 2 3 3 16\n",
      "1 100 2 2 3 4 24\n",
      "1 100 2 2 3 5 40\n",
      "1 100 2 2 3 6 72\n",
      "1 100 2 2 4 2 20\n",
      "1 100 2 2 4 3 24\n",
      "1 100 2 2 4 4 32\n",
      "1 100 2 2 4 5 48\n",
      "1 100 2 2 4 6 80\n",
      "1 100 2 2 5 2 36\n",
      "1 100 2 2 5 3 40\n",
      "1 100 2 2 5 4 48\n",
      "1 100 2 2 5 5 64\n",
      "1 100 2 2 5 6 96\n",
      "1 100 2 2 6 2 68\n",
      "1 100 2 2 6 3 72\n",
      "1 100 2 2 6 4 80\n",
      "1 100 2 2 6 5 96\n",
      "1 100 3 0 2 2 9\n",
      "1 100 3 0 3 2 27\n",
      "1 100 3 0 4 2 81\n",
      "1 100 3 1 2 2 10\n",
      "1 100 3 1 3 2 28\n",
      "1 100 3 1 4 2 82\n",
      "1 100 3 2 2 2 13\n",
      "1 100 3 2 2 3 17\n",
      "1 100 3 2 2 4 25\n",
      "1 100 3 2 2 5 41\n",
      "1 100 3 2 2 6 73\n",
      "1 100 3 2 3 2 31\n",
      "1 100 3 2 3 3 35\n",
      "1 100 3 2 3 4 43\n",
      "1 100 3 2 3 5 59\n",
      "1 100 3 2 3 6 91\n",
      "1 100 3 2 4 2 85\n",
      "1 100 3 2 4 3 89\n",
      "1 100 3 2 4 4 97\n",
      "1 100 3 3 2 2 18\n",
      "1 100 3 3 2 3 36\n",
      "1 100 3 3 2 4 90\n",
      "1 100 3 3 3 2 36\n",
      "1 100 3 3 3 3 54\n",
      "1 100 3 3 4 2 90\n",
      "1 100 4 0 2 2 16\n",
      "1 100 4 0 3 2 64\n",
      "1 100 4 1 2 2 17\n",
      "1 100 4 1 3 2 65\n",
      "1 100 4 2 2 2 20\n",
      "1 100 4 2 2 3 24\n",
      "1 100 4 2 2 4 32\n",
      "1 100 4 2 2 5 48\n",
      "1 100 4 2 2 6 80\n",
      "1 100 4 2 3 2 68\n",
      "1 100 4 2 3 3 72\n",
      "1 100 4 2 3 4 80\n",
      "1 100 4 2 3 5 96\n",
      "1 100 4 3 2 2 25\n",
      "1 100 4 3 2 3 43\n",
      "1 100 4 3 2 4 97\n",
      "1 100 4 3 3 2 73\n",
      "1 100 4 3 3 3 91\n",
      "1 100 4 4 2 2 32\n",
      "1 100 4 4 2 3 80\n",
      "1 100 4 4 3 2 80\n",
      "1 100 5 0 2 2 25\n",
      "1 100 5 1 2 2 26\n",
      "1 100 5 2 2 2 29\n",
      "1 100 5 2 2 3 33\n",
      "1 100 5 2 2 4 41\n",
      "1 100 5 2 2 5 57\n",
      "1 100 5 2 2 6 89\n",
      "1 100 5 3 2 2 34\n",
      "1 100 5 3 2 3 52\n",
      "1 100 5 4 2 2 41\n",
      "1 100 5 4 2 3 89\n",
      "1 100 5 5 2 2 50\n",
      "1 100 6 0 2 2 36\n",
      "1 100 6 1 2 2 37\n",
      "1 100 6 2 2 2 40\n",
      "1 100 6 2 2 3 44\n",
      "1 100 6 2 2 4 52\n",
      "1 100 6 2 2 5 68\n",
      "1 100 6 2 2 6 100\n",
      "1 100 6 3 2 2 45\n",
      "1 100 6 3 2 3 63\n",
      "1 100 6 4 2 2 52\n",
      "1 100 6 4 2 3 100\n",
      "1 100 6 5 2 2 61\n",
      "1 100 6 6 2 2 72\n",
      "1 100 7 0 2 2 49\n",
      "1 100 7 1 2 2 50\n",
      "1 100 7 2 2 2 53\n",
      "1 100 7 2 2 3 57\n",
      "1 100 7 2 2 4 65\n",
      "1 100 7 2 2 5 81\n",
      "1 100 7 3 2 2 58\n",
      "1 100 7 3 2 3 76\n",
      "1 100 7 4 2 2 65\n",
      "1 100 7 5 2 2 74\n",
      "1 100 7 6 2 2 85\n",
      "1 100 7 7 2 2 98\n",
      "1 100 8 0 2 2 64\n",
      "1 100 8 1 2 2 65\n",
      "1 100 8 2 2 2 68\n",
      "1 100 8 2 2 3 72\n",
      "1 100 8 2 2 4 80\n",
      "1 100 8 2 2 5 96\n",
      "1 100 8 3 2 2 73\n",
      "1 100 8 3 2 3 91\n",
      "1 100 8 4 2 2 80\n",
      "1 100 8 5 2 2 89\n",
      "1 100 8 6 2 2 100\n",
      "1 100 9 0 2 2 81\n",
      "1 100 9 1 2 2 82\n",
      "1 100 9 2 2 2 85\n",
      "1 100 9 2 2 3 89\n",
      "1 100 9 2 2 4 97\n",
      "1 100 9 3 2 2 90\n",
      "1 100 9 4 2 2 97\n",
      "1 100 10 0 2 2 100\n",
      "138\n"
     ]
    }
   ],
   "source": [
    "print(c(1,100))"
   ]
  },
  {
   "cell_type": "code",
   "execution_count": 215,
   "id": "7806b0ad",
   "metadata": {},
   "outputs": [
    {
     "name": "stdout",
     "output_type": "stream",
     "text": [
      "2\n"
     ]
    }
   ],
   "source": [
    "for i in range(2,3):\n",
    "    print(i)"
   ]
  },
  {
   "cell_type": "code",
   "execution_count": null,
   "id": "482bcf44",
   "metadata": {},
   "outputs": [],
   "source": []
  }
 ],
 "metadata": {
  "kernelspec": {
   "display_name": "Python 3",
   "language": "python",
   "name": "python3"
  },
  "language_info": {
   "codemirror_mode": {
    "name": "ipython",
    "version": 3
   },
   "file_extension": ".py",
   "mimetype": "text/x-python",
   "name": "python",
   "nbconvert_exporter": "python",
   "pygments_lexer": "ipython3",
   "version": "3.8.8"
  }
 },
 "nbformat": 4,
 "nbformat_minor": 5
}
